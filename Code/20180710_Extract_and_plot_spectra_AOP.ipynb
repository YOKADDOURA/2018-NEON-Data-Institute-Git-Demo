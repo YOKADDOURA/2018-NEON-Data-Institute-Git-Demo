{
 "cells": [
  {
   "cell_type": "markdown",
   "metadata": {},
   "source": [
    "### Code to extract and plot spectra from a single NEON AOP pixel\n",
    "Youssef Kaddoura     \n",
    "July 10, 2018     \n",
    "kaddoura@ufl.edu     \n",
    "\n",
    "The goal is to extracta single pixel from a hyperspectral hdf5 file and plot 3 figures, both without bad bands of inusable dat and with those bands.   We also want tto export csv of the cleaned wavelength and relflectance info for use latter."
   ]
  },
  {
   "cell_type": "code",
   "execution_count": 1,
   "metadata": {},
   "outputs": [],
   "source": [
    "import h5py"
   ]
  },
  {
   "cell_type": "code",
   "execution_count": 2,
   "metadata": {},
   "outputs": [],
   "source": [
    "import numpy as np\n",
    "import pandas as pd # made reading csv very cool\n",
    "import matplotlib.pyplot as plt\n",
    "from copy import copy\n",
    "import IPython\n",
    "%matplotlib inline"
   ]
  },
  {
   "cell_type": "code",
   "execution_count": 3,
   "metadata": {},
   "outputs": [
    {
     "data": {
      "text/plain": [
       "'../Data/NEON_D17_SJER_DP1_20180401_184649_reflectance.h5'"
      ]
     },
     "execution_count": 3,
     "metadata": {},
     "output_type": "execute_result"
    }
   ],
   "source": [
    "refl_filename =('../Data/NEON_D17_SJER_DP1_20180401_184649_reflectance.h5') ## .. go up to our parents of our directory then down\n",
    "refl_filename"
   ]
  },
  {
   "cell_type": "code",
   "execution_count": 4,
   "metadata": {},
   "outputs": [
    {
     "data": {
      "text/plain": [
       "(100, 100)"
      ]
     },
     "execution_count": 4,
     "metadata": {},
     "output_type": "execute_result"
    }
   ],
   "source": [
    "pixel_to_plot = (100,100)\n",
    "pixel_to_plot"
   ]
  },
  {
   "cell_type": "code",
   "execution_count": 7,
   "metadata": {},
   "outputs": [
    {
     "data": {
      "text/plain": [
       "<HDF5 file \"NEON_D17_SJER_DP1_20180401_184649_reflectance.h5\" (mode r)>"
      ]
     },
     "execution_count": 7,
     "metadata": {},
     "output_type": "execute_result"
    }
   ],
   "source": [
    "# Read in reflectance hdf5 file\n",
    "hdf5_file = h5py.File(refl_filename,'r')\n",
    "hdf5_file"
   ]
  },
  {
   "cell_type": "code",
   "execution_count": 9,
   "metadata": {},
   "outputs": [],
   "source": [
    "# Get the file name\n",
    "file_attrs_string = str(list(hdf5_file.items()))"
   ]
  },
  {
   "cell_type": "code",
   "execution_count": 10,
   "metadata": {},
   "outputs": [
    {
     "data": {
      "text/plain": [
       "[('SJER', <HDF5 group \"/SJER\" (1 members)>)]"
      ]
     },
     "execution_count": 10,
     "metadata": {},
     "output_type": "execute_result"
    }
   ],
   "source": [
    "list(hdf5_file.items())"
   ]
  },
  {
   "cell_type": "code",
   "execution_count": 11,
   "metadata": {},
   "outputs": [],
   "source": [
    "file_attrs_string_split = file_attrs_string.split(\"'\")"
   ]
  },
  {
   "cell_type": "code",
   "execution_count": 12,
   "metadata": {},
   "outputs": [
    {
     "data": {
      "text/plain": [
       "['[(', 'SJER', ', <HDF5 group \"/SJER\" (1 members)>)]']"
      ]
     },
     "execution_count": 12,
     "metadata": {},
     "output_type": "execute_result"
    }
   ],
   "source": [
    "file_attrs_string_split\n"
   ]
  },
  {
   "cell_type": "code",
   "execution_count": 13,
   "metadata": {},
   "outputs": [],
   "source": [
    "sitename = file_attrs_string_split[1]"
   ]
  },
  {
   "cell_type": "code",
   "execution_count": 14,
   "metadata": {},
   "outputs": [
    {
     "data": {
      "text/plain": [
       "'SJER'"
      ]
     },
     "execution_count": 14,
     "metadata": {},
     "output_type": "execute_result"
    }
   ],
   "source": [
    "sitename"
   ]
  },
  {
   "cell_type": "code",
   "execution_count": 15,
   "metadata": {},
   "outputs": [
    {
     "data": {
      "text/plain": [
       "<HDF5 group \"/SJER/Reflectance\" (2 members)>"
      ]
     },
     "execution_count": 15,
     "metadata": {},
     "output_type": "execute_result"
    }
   ],
   "source": [
    "# we can use the sitename to i want to go to SJER and gett the \n",
    "refl = hdf5_file[sitename]['Reflectance']\n",
    "refl"
   ]
  },
  {
   "cell_type": "code",
   "execution_count": 16,
   "metadata": {},
   "outputs": [
    {
     "data": {
      "text/plain": [
       "['Description',\n",
       " 'Sensor',\n",
       " 'PayloadID',\n",
       " 'Scripts',\n",
       " 'Acquisition_Time',\n",
       " 'Band_Window_1_Nanometers',\n",
       " 'Band_Window_2_Nanometers']"
      ]
     },
     "execution_count": 16,
     "metadata": {},
     "output_type": "execute_result"
    }
   ],
   "source": [
    "list(refl.attrs)"
   ]
  },
  {
   "cell_type": "code",
   "execution_count": 18,
   "metadata": {},
   "outputs": [
    {
     "data": {
      "text/plain": [
       "<HDF5 dataset \"Reflectance_Data\": shape (216, 699, 426), type \"<i2\">"
      ]
     },
     "execution_count": 18,
     "metadata": {},
     "output_type": "execute_result"
    }
   ],
   "source": [
    "# get the reflectance data\n",
    "reflData = refl['Reflectance_Data']\n",
    "reflData"
   ]
  },
  {
   "cell_type": "code",
   "execution_count": 19,
   "metadata": {},
   "outputs": [
    {
     "data": {
      "text/plain": [
       "array([[[-9999, -9999, -9999, ..., -9999, -9999, -9999],\n",
       "        [-9999, -9999, -9999, ..., -9999, -9999, -9999],\n",
       "        [-9999, -9999, -9999, ..., -9999, -9999, -9999],\n",
       "        ...,\n",
       "        [-9999, -9999, -9999, ..., -9999, -9999, -9999],\n",
       "        [-9999, -9999, -9999, ..., -9999, -9999, -9999],\n",
       "        [-9999, -9999, -9999, ..., -9999, -9999, -9999]],\n",
       "\n",
       "       [[-9999, -9999, -9999, ..., -9999, -9999, -9999],\n",
       "        [-9999, -9999, -9999, ..., -9999, -9999, -9999],\n",
       "        [-9999, -9999, -9999, ..., -9999, -9999, -9999],\n",
       "        ...,\n",
       "        [-9999, -9999, -9999, ..., -9999, -9999, -9999],\n",
       "        [-9999, -9999, -9999, ..., -9999, -9999, -9999],\n",
       "        [-9999, -9999, -9999, ..., -9999, -9999, -9999]],\n",
       "\n",
       "       [[-9999, -9999, -9999, ..., -9999, -9999, -9999],\n",
       "        [-9999, -9999, -9999, ..., -9999, -9999, -9999],\n",
       "        [-9999, -9999, -9999, ..., -9999, -9999, -9999],\n",
       "        ...,\n",
       "        [-9999, -9999, -9999, ..., -9999, -9999, -9999],\n",
       "        [-9999, -9999, -9999, ..., -9999, -9999, -9999],\n",
       "        [-9999, -9999, -9999, ..., -9999, -9999, -9999]],\n",
       "\n",
       "       ...,\n",
       "\n",
       "       [[-9999, -9999, -9999, ..., -9999, -9999, -9999],\n",
       "        [-9999, -9999, -9999, ..., -9999, -9999, -9999],\n",
       "        [-9999, -9999, -9999, ..., -9999, -9999, -9999],\n",
       "        ...,\n",
       "        [-9999, -9999, -9999, ..., -9999, -9999, -9999],\n",
       "        [-9999, -9999, -9999, ..., -9999, -9999, -9999],\n",
       "        [-9999, -9999, -9999, ..., -9999, -9999, -9999]],\n",
       "\n",
       "       [[-9999, -9999, -9999, ..., -9999, -9999, -9999],\n",
       "        [-9999, -9999, -9999, ..., -9999, -9999, -9999],\n",
       "        [-9999, -9999, -9999, ..., -9999, -9999, -9999],\n",
       "        ...,\n",
       "        [-9999, -9999, -9999, ..., -9999, -9999, -9999],\n",
       "        [-9999, -9999, -9999, ..., -9999, -9999, -9999],\n",
       "        [-9999, -9999, -9999, ..., -9999, -9999, -9999]],\n",
       "\n",
       "       [[-9999, -9999, -9999, ..., -9999, -9999, -9999],\n",
       "        [-9999, -9999, -9999, ..., -9999, -9999, -9999],\n",
       "        [-9999, -9999, -9999, ..., -9999, -9999, -9999],\n",
       "        ...,\n",
       "        [-9999, -9999, -9999, ..., -9999, -9999, -9999],\n",
       "        [-9999, -9999, -9999, ..., -9999, -9999, -9999],\n",
       "        [-9999, -9999, -9999, ..., -9999, -9999, -9999]]], dtype=int16)"
      ]
     },
     "execution_count": 19,
     "metadata": {},
     "output_type": "execute_result"
    }
   ],
   "source": [
    "# get the raw data\n",
    "reflRaw = refl['Reflectance_Data'].value\n",
    "reflRaw"
   ]
  },
  {
   "cell_type": "code",
   "execution_count": null,
   "metadata": {},
   "outputs": [],
   "source": []
  }
 ],
 "metadata": {
  "kernelspec": {
   "display_name": "Python 3",
   "language": "python",
   "name": "python3"
  },
  "language_info": {
   "codemirror_mode": {
    "name": "ipython",
    "version": 3
   },
   "file_extension": ".py",
   "mimetype": "text/x-python",
   "name": "python",
   "nbconvert_exporter": "python",
   "pygments_lexer": "ipython3",
   "version": "3.5.5"
  }
 },
 "nbformat": 4,
 "nbformat_minor": 2
}
